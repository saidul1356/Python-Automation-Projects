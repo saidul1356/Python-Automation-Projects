{
 "cells": [
  {
   "cell_type": "markdown",
   "id": "39467acc-336c-4780-96bf-2534df28ed6b",
   "metadata": {},
   "source": [
    "# Step 1: Simulated Data"
   ]
  },
  {
   "cell_type": "code",
   "execution_count": 1,
   "id": "d0f7cf4c-ea38-402e-9a23-dac653f327b2",
   "metadata": {},
   "outputs": [],
   "source": [
    "import pandas as pd\n",
    "import numpy as np\n",
    "\n",
    "# Simulate daily returns for one year\n",
    "np.random.seed(42)\n",
    "dates = pd.date_range(start='2022-01-01', periods=365)\n",
    "returns = np.random.normal(loc=0.0005, scale=0.02, size=len(dates))\n",
    "\n",
    "# Create DataFrame\n",
    "df = pd.DataFrame({'Date': dates, 'Returns': returns})"
   ]
  },
  {
   "cell_type": "markdown",
   "id": "f2021c4a-e38c-426c-bdf9-b6ce9445b2c3",
   "metadata": {},
   "source": [
    "# Step 2: Calculate Risk Metrics"
   ]
  },
  {
   "cell_type": "code",
   "execution_count": 2,
   "id": "7bfde529-73bb-4453-928b-c9bf13c1e7c2",
   "metadata": {},
   "outputs": [
    {
     "name": "stdout",
     "output_type": "stream",
     "text": [
      "Risk Metrics Summary Report:\n",
      "Mean Return: 0.0699%\n",
      "Standard Deviation: 1.8935%\n",
      "95% VaR: -2.8413%\n"
     ]
    }
   ],
   "source": [
    "# Calculating risk metrics like mean return, standard deviation, and Value at Risk (VaR).\n",
    "def risk_metrics(data):\n",
    "    \"\"\"Calculate basic risk metrics for the returns data.\"\"\"\n",
    "    mean_return = np.mean(data)\n",
    "    std_deviation = np.std(data)\n",
    "    VaR_95 = np.percentile(data, 5)  # 5% VaR\n",
    "    metrics = {\n",
    "        'Mean Return': mean_return,\n",
    "        'Standard Deviation': std_deviation,\n",
    "        '95% VaR': VaR_95\n",
    "    }\n",
    "    return metrics\n",
    "\n",
    "# Calculate risk metrics\n",
    "metrics = risk_metrics(df['Returns'])\n",
    "\n",
    "# Print the summary report\n",
    "print(\"Risk Metrics Summary Report:\")\n",
    "for metric, value in metrics.items():\n",
    "    print(f\"{metric}: {value:.4%}\")"
   ]
  },
  {
   "cell_type": "code",
   "execution_count": null,
   "id": "093b69d3-c3a4-4209-bfde-780c487c85b9",
   "metadata": {},
   "outputs": [],
   "source": [
    "# Summary: Generated a basic risk metrics summary report."
   ]
  }
 ],
 "metadata": {
  "kernelspec": {
   "display_name": "Python 3 (ipykernel)",
   "language": "python",
   "name": "python3"
  },
  "language_info": {
   "codemirror_mode": {
    "name": "ipython",
    "version": 3
   },
   "file_extension": ".py",
   "mimetype": "text/x-python",
   "name": "python",
   "nbconvert_exporter": "python",
   "pygments_lexer": "ipython3",
   "version": "3.11.7"
  }
 },
 "nbformat": 4,
 "nbformat_minor": 5
}

{
 "cells": [
  {
   "cell_type": "markdown",
   "id": "fa3e18e2-bda6-46ab-9349-9e4f553767a8",
   "metadata": {},
   "source": [
    "# Step 1: Simulate Data"
   ]
  },
  {
   "cell_type": "code",
   "execution_count": 1,
   "id": "2d6b883e-f9e7-4778-9378-0492705fab03",
   "metadata": {},
   "outputs": [],
   "source": [
    "import pandas as pd\n",
    "import numpy as np\n",
    "\n",
    "# Set seed for reproducibility\n",
    "np.random.seed(42)\n",
    "dates = pd.date_range(start='2022-01-01', periods=365)\n",
    "returns = np.random.normal(loc=0.0005, scale=0.02, size=len(dates))\n",
    "\n",
    "# Create DataFrame\n",
    "df = pd.DataFrame({'Date': dates, 'Returns': returns})"
   ]
  },
  {
   "cell_type": "markdown",
   "id": "3a6e2932-4bb1-4d65-88f2-cbed97f97648",
   "metadata": {},
   "source": [
    "# Step 2: Scenario Analysis"
   ]
  },
  {
   "cell_type": "code",
   "execution_count": 2,
   "id": "d593801e-c79c-4b5b-9254-7bfa1db1ef99",
   "metadata": {},
   "outputs": [
    {
     "name": "stdout",
     "output_type": "stream",
     "text": [
      "Scenario Analysis Results:\n",
      "Optimistic: 0.71\n",
      "Neutral: 1.18\n",
      "Pessimistic: 0.12\n"
     ]
    }
   ],
   "source": [
    "# Defining a function that modifies the average return to simulate different scenarios (e.g., optimistic, pessimistic, and neutral).\n",
    "\n",
    "def scenario_analysis(original_returns, scenarios):\n",
    "    \"\"\"Simulate portfolio performance under different market conditions.\"\"\"\n",
    "    results = {}\n",
    "    for scenario, change in scenarios.items():\n",
    "        modified_returns = np.random.normal(loc=original_returns.mean() + change, scale=0.02, size=len(original_returns))\n",
    "        results[scenario] = np.sum(modified_returns)  # Total return for the year\n",
    "    return results\n",
    "\n",
    "# Define scenarios: optimistic, neutral, pessimistic\n",
    "scenarios = {\n",
    "    'Optimistic': 0.002,  # +0.2%\n",
    "    'Neutral': 0.0,       # no change\n",
    "    'Pessimistic': -0.002 # -0.2%\n",
    "}\n",
    "\n",
    "# Perform scenario analysis\n",
    "scenario_results = scenario_analysis(df['Returns'], scenarios)\n",
    "\n",
    "# Print scenario analysis results\n",
    "print(\"Scenario Analysis Results:\")\n",
    "for scenario, result in scenario_results.items():\n",
    "    print(f\"{scenario}: {result:.2f}\")"
   ]
  },
  {
   "cell_type": "code",
   "execution_count": null,
   "id": "793d4d1d-6630-471f-9dc1-dc9e67255047",
   "metadata": {},
   "outputs": [],
   "source": [
    "# Summary: Conducted a simple scenario analysis to understand the impact of different market conditions."
   ]
  }
 ],
 "metadata": {
  "kernelspec": {
   "display_name": "Python 3 (ipykernel)",
   "language": "python",
   "name": "python3"
  },
  "language_info": {
   "codemirror_mode": {
    "name": "ipython",
    "version": 3
   },
   "file_extension": ".py",
   "mimetype": "text/x-python",
   "name": "python",
   "nbconvert_exporter": "python",
   "pygments_lexer": "ipython3",
   "version": "3.11.7"
  }
 },
 "nbformat": 4,
 "nbformat_minor": 5
}

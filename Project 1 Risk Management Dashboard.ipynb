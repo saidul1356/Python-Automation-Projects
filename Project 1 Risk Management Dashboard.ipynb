{
 "cells": [
  {
   "cell_type": "code",
   "execution_count": 6,
   "id": "caeb3910-c903-41f0-ba70-b9bb8db33c48",
   "metadata": {},
   "outputs": [
    {
     "name": "stdout",
     "output_type": "stream",
     "text": [
      "Collecting dash\n",
      "  Downloading dash-2.17.1-py3-none-any.whl.metadata (10 kB)\n",
      "Requirement already satisfied: pandas in c:\\users\\hp\\anaconda3\\lib\\site-packages (2.1.4)\n",
      "Requirement already satisfied: plotly in c:\\users\\hp\\anaconda3\\lib\\site-packages (5.9.0)\n",
      "Requirement already satisfied: Flask<3.1,>=1.0.4 in c:\\users\\hp\\anaconda3\\lib\\site-packages (from dash) (2.2.5)\n",
      "Requirement already satisfied: Werkzeug<3.1 in c:\\users\\hp\\anaconda3\\lib\\site-packages (from dash) (2.2.3)\n",
      "Collecting dash-html-components==2.0.0 (from dash)\n",
      "  Downloading dash_html_components-2.0.0-py3-none-any.whl.metadata (3.8 kB)\n",
      "Collecting dash-core-components==2.0.0 (from dash)\n",
      "  Downloading dash_core_components-2.0.0-py3-none-any.whl.metadata (2.9 kB)\n",
      "Collecting dash-table==5.0.0 (from dash)\n",
      "  Downloading dash_table-5.0.0-py3-none-any.whl.metadata (2.4 kB)\n",
      "Requirement already satisfied: importlib-metadata in c:\\users\\hp\\anaconda3\\lib\\site-packages (from dash) (7.0.1)\n",
      "Requirement already satisfied: typing-extensions>=4.1.1 in c:\\users\\hp\\anaconda3\\lib\\site-packages (from dash) (4.9.0)\n",
      "Requirement already satisfied: requests in c:\\users\\hp\\anaconda3\\lib\\site-packages (from dash) (2.31.0)\n",
      "Collecting retrying (from dash)\n",
      "  Downloading retrying-1.3.4-py3-none-any.whl.metadata (6.9 kB)\n",
      "Requirement already satisfied: nest-asyncio in c:\\users\\hp\\anaconda3\\lib\\site-packages (from dash) (1.6.0)\n",
      "Requirement already satisfied: setuptools in c:\\users\\hp\\anaconda3\\lib\\site-packages (from dash) (68.2.2)\n",
      "Requirement already satisfied: numpy<2,>=1.23.2 in c:\\users\\hp\\anaconda3\\lib\\site-packages (from pandas) (1.26.4)\n",
      "Requirement already satisfied: python-dateutil>=2.8.2 in c:\\users\\hp\\anaconda3\\lib\\site-packages (from pandas) (2.8.2)\n",
      "Requirement already satisfied: pytz>=2020.1 in c:\\users\\hp\\anaconda3\\lib\\site-packages (from pandas) (2023.3.post1)\n",
      "Requirement already satisfied: tzdata>=2022.1 in c:\\users\\hp\\anaconda3\\lib\\site-packages (from pandas) (2023.3)\n",
      "Requirement already satisfied: tenacity>=6.2.0 in c:\\users\\hp\\anaconda3\\lib\\site-packages (from plotly) (8.2.2)\n",
      "Requirement already satisfied: Jinja2>=3.0 in c:\\users\\hp\\anaconda3\\lib\\site-packages (from Flask<3.1,>=1.0.4->dash) (3.1.3)\n",
      "Requirement already satisfied: itsdangerous>=2.0 in c:\\users\\hp\\anaconda3\\lib\\site-packages (from Flask<3.1,>=1.0.4->dash) (2.0.1)\n",
      "Requirement already satisfied: click>=8.0 in c:\\users\\hp\\anaconda3\\lib\\site-packages (from Flask<3.1,>=1.0.4->dash) (8.1.7)\n",
      "Requirement already satisfied: six>=1.5 in c:\\users\\hp\\anaconda3\\lib\\site-packages (from python-dateutil>=2.8.2->pandas) (1.16.0)\n",
      "Requirement already satisfied: MarkupSafe>=2.1.1 in c:\\users\\hp\\anaconda3\\lib\\site-packages (from Werkzeug<3.1->dash) (2.1.3)\n",
      "Requirement already satisfied: zipp>=0.5 in c:\\users\\hp\\anaconda3\\lib\\site-packages (from importlib-metadata->dash) (3.17.0)\n",
      "Requirement already satisfied: charset-normalizer<4,>=2 in c:\\users\\hp\\anaconda3\\lib\\site-packages (from requests->dash) (2.0.4)\n",
      "Requirement already satisfied: idna<4,>=2.5 in c:\\users\\hp\\anaconda3\\lib\\site-packages (from requests->dash) (3.4)\n",
      "Requirement already satisfied: urllib3<3,>=1.21.1 in c:\\users\\hp\\anaconda3\\lib\\site-packages (from requests->dash) (2.0.7)\n",
      "Requirement already satisfied: certifi>=2017.4.17 in c:\\users\\hp\\anaconda3\\lib\\site-packages (from requests->dash) (2024.2.2)\n",
      "Requirement already satisfied: colorama in c:\\users\\hp\\anaconda3\\lib\\site-packages (from click>=8.0->Flask<3.1,>=1.0.4->dash) (0.4.6)\n",
      "Downloading dash-2.17.1-py3-none-any.whl (7.5 MB)\n",
      "   ---------------------------------------- 0.0/7.5 MB ? eta -:--:--\n",
      "   ---------------------------------------- 0.0/7.5 MB 960.0 kB/s eta 0:00:08\n",
      "    --------------------------------------- 0.2/7.5 MB 2.6 MB/s eta 0:00:03\n",
      "   - -------------------------------------- 0.4/7.5 MB 3.3 MB/s eta 0:00:03\n",
      "   -- ------------------------------------- 0.5/7.5 MB 3.1 MB/s eta 0:00:03\n",
      "   --- ------------------------------------ 0.6/7.5 MB 2.7 MB/s eta 0:00:03\n",
      "   --- ------------------------------------ 0.7/7.5 MB 2.8 MB/s eta 0:00:03\n",
      "   ----- ---------------------------------- 0.9/7.5 MB 3.1 MB/s eta 0:00:03\n",
      "   ------ --------------------------------- 1.2/7.5 MB 3.2 MB/s eta 0:00:02\n",
      "   ------- -------------------------------- 1.4/7.5 MB 3.5 MB/s eta 0:00:02\n",
      "   -------- ------------------------------- 1.6/7.5 MB 3.5 MB/s eta 0:00:02\n",
      "   --------- ------------------------------ 1.8/7.5 MB 3.6 MB/s eta 0:00:02\n",
      "   ---------- ----------------------------- 2.0/7.5 MB 3.8 MB/s eta 0:00:02\n",
      "   ------------ --------------------------- 2.3/7.5 MB 3.9 MB/s eta 0:00:02\n",
      "   ------------- -------------------------- 2.5/7.5 MB 3.9 MB/s eta 0:00:02\n",
      "   -------------- ------------------------- 2.8/7.5 MB 4.0 MB/s eta 0:00:02\n",
      "   --------------- ------------------------ 3.0/7.5 MB 4.1 MB/s eta 0:00:02\n",
      "   ----------------- ---------------------- 3.2/7.5 MB 4.1 MB/s eta 0:00:02\n",
      "   ----------------- ---------------------- 3.3/7.5 MB 4.0 MB/s eta 0:00:02\n",
      "   ------------------ --------------------- 3.5/7.5 MB 4.0 MB/s eta 0:00:01\n",
      "   -------------------- ------------------- 3.8/7.5 MB 4.1 MB/s eta 0:00:01\n",
      "   --------------------- ------------------ 4.0/7.5 MB 4.1 MB/s eta 0:00:01\n",
      "   ---------------------- ----------------- 4.2/7.5 MB 4.1 MB/s eta 0:00:01\n",
      "   ----------------------- ---------------- 4.4/7.5 MB 4.1 MB/s eta 0:00:01\n",
      "   ------------------------ --------------- 4.6/7.5 MB 4.2 MB/s eta 0:00:01\n",
      "   ------------------------- -------------- 4.8/7.5 MB 4.1 MB/s eta 0:00:01\n",
      "   -------------------------- ------------- 5.0/7.5 MB 4.2 MB/s eta 0:00:01\n",
      "   --------------------------- ------------ 5.2/7.5 MB 4.2 MB/s eta 0:00:01\n",
      "   ----------------------------- ---------- 5.5/7.5 MB 4.2 MB/s eta 0:00:01\n",
      "   ------------------------------ --------- 5.7/7.5 MB 4.3 MB/s eta 0:00:01\n",
      "   ------------------------------- -------- 6.0/7.5 MB 4.3 MB/s eta 0:00:01\n",
      "   -------------------------------- ------- 6.1/7.5 MB 4.3 MB/s eta 0:00:01\n",
      "   --------------------------------- ------ 6.3/7.5 MB 4.2 MB/s eta 0:00:01\n",
      "   ----------------------------------- ---- 6.6/7.5 MB 4.3 MB/s eta 0:00:01\n",
      "   ------------------------------------ --- 6.8/7.5 MB 4.3 MB/s eta 0:00:01\n",
      "   -------------------------------------- - 7.1/7.5 MB 4.4 MB/s eta 0:00:01\n",
      "   ---------------------------------------  7.4/7.5 MB 4.4 MB/s eta 0:00:01\n",
      "   ---------------------------------------  7.5/7.5 MB 4.4 MB/s eta 0:00:01\n",
      "   ---------------------------------------- 7.5/7.5 MB 4.3 MB/s eta 0:00:00\n",
      "Downloading dash_core_components-2.0.0-py3-none-any.whl (3.8 kB)\n",
      "Downloading dash_html_components-2.0.0-py3-none-any.whl (4.1 kB)\n",
      "Downloading dash_table-5.0.0-py3-none-any.whl (3.9 kB)\n",
      "Downloading retrying-1.3.4-py3-none-any.whl (11 kB)\n",
      "Installing collected packages: dash-table, dash-html-components, dash-core-components, retrying, dash\n",
      "Successfully installed dash-2.17.1 dash-core-components-2.0.0 dash-html-components-2.0.0 dash-table-5.0.0 retrying-1.3.4\n",
      "Note: you may need to restart the kernel to use updated packages.\n"
     ]
    }
   ],
   "source": [
    "pip install dash pandas plotly"
   ]
  },
  {
   "cell_type": "markdown",
   "id": "d7e44254-9f06-45f8-8f02-40d9ee1cef65",
   "metadata": {},
   "source": [
    "# Step 1: Simulated Data\n",
    "## Generating simulated dataset for portfolio value and a simple Value at Risk (VaR)."
   ]
  },
  {
   "cell_type": "code",
   "execution_count": 4,
   "id": "9630423d-4702-4b0b-8bf5-81ccf25398f3",
   "metadata": {},
   "outputs": [
    {
     "name": "stdout",
     "output_type": "stream",
     "text": [
      "95% Value at Risk (VaR): -2.84%\n"
     ]
    }
   ],
   "source": [
    "import pandas as pd\n",
    "import numpy as np\n",
    "\n",
    "# Simulate data for one year (365 days)\n",
    "np.random.seed(42)  # For reproducibility\n",
    "dates = pd.date_range(start='2022-01-01', periods=365)\n",
    "returns = np.random.normal(loc=0.0005, scale=0.02, size=len(dates))  # Simulated daily returns\n",
    "\n",
    "# Calculate cumulative portfolio value (starting at $1,000,000)\n",
    "portfolio_value = 1000000 * (1 + returns).cumprod()\n",
    "\n",
    "# Create a DataFrame\n",
    "df = pd.DataFrame({\n",
    "    'Date': dates,\n",
    "    'Portfolio Value': portfolio_value\n",
    "})\n",
    "\n",
    "# Calculate a 95% VaR (using the returns data)\n",
    "VaR_95 = np.percentile(returns, 5)  # 5% VaR means there's a 95% chance the loss will be less than this\n",
    "print(f\"95% Value at Risk (VaR): {VaR_95:.2%}\")"
   ]
  },
  {
   "cell_type": "markdown",
   "id": "903a2d40-3a49-4a8c-8dd8-060149f3e300",
   "metadata": {},
   "source": [
    "# Step 2: Build a Simple Dashboard\n",
    "## Building the dashboard using Dash. The following example creates a minimal and user-friendly dashboard with only essential visualizations."
   ]
  },
  {
   "cell_type": "code",
   "execution_count": 7,
   "id": "aec0f518-d21c-4b45-bf92-7ab3d22c8d26",
   "metadata": {},
   "outputs": [
    {
     "name": "stderr",
     "output_type": "stream",
     "text": [
      "C:\\Users\\HP\\anaconda3\\Lib\\site-packages\\_plotly_utils\\basevalidators.py:106: FutureWarning:\n",
      "\n",
      "The behavior of DatetimeProperties.to_pydatetime is deprecated, in a future version this will return a Series containing python datetime objects instead of an ndarray. To retain the old behavior, call `np.array` on the result\n",
      "\n"
     ]
    },
    {
     "data": {
      "text/html": [
       "\n",
       "        <iframe\n",
       "            width=\"100%\"\n",
       "            height=\"650\"\n",
       "            src=\"http://127.0.0.1:8050/\"\n",
       "            frameborder=\"0\"\n",
       "            allowfullscreen\n",
       "            \n",
       "        ></iframe>\n",
       "        "
      ],
      "text/plain": [
       "<IPython.lib.display.IFrame at 0x12187ce4050>"
      ]
     },
     "metadata": {},
     "output_type": "display_data"
    }
   ],
   "source": [
    "import dash\n",
    "from dash import dcc, html\n",
    "import plotly.express as px\n",
    "\n",
    "# Create the Dash app\n",
    "app = dash.Dash(__name__)\n",
    "\n",
    "# Layout of the dashboard\n",
    "app.layout = html.Div([\n",
    "    html.H1(\"Risk Management Dashboard\"),\n",
    "    dcc.Graph(\n",
    "        id='portfolio-value',\n",
    "        figure=px.line(df, x='Date', y='Portfolio Value', title='Portfolio Value Over Time')\n",
    "    ),\n",
    "    html.H3(f\"95% Value at Risk (VaR): {VaR_95:.2%}\"),  # Displaying VaR below the graph\n",
    "])\n",
    "\n",
    "# Run the server\n",
    "if __name__ == '__main__':\n",
    "    app.run_server(debug=True)"
   ]
  },
  {
   "cell_type": "code",
   "execution_count": null,
   "id": "d78e1dfc-a2ac-4fe7-b839-eff5b047bdb9",
   "metadata": {},
   "outputs": [],
   "source": [
    "# Summary: Created a simple dashboard that helps visualize risk metrics without going into complex coding or advanced concepts."
   ]
  }
 ],
 "metadata": {
  "kernelspec": {
   "display_name": "Python 3 (ipykernel)",
   "language": "python",
   "name": "python3"
  },
  "language_info": {
   "codemirror_mode": {
    "name": "ipython",
    "version": 3
   },
   "file_extension": ".py",
   "mimetype": "text/x-python",
   "name": "python",
   "nbconvert_exporter": "python",
   "pygments_lexer": "ipython3",
   "version": "3.11.7"
  }
 },
 "nbformat": 4,
 "nbformat_minor": 5
}
